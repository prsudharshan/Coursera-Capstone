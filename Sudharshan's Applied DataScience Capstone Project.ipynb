{
    "cells": [
        {
            "cell_type": "markdown",
            "metadata": {
                "collapsed": true
            },
            "source": "## Applied DataScience Capstone Project - Battle of the Neighbourhoods\n\n### THE GOLD DREGGER\n\n**Sudharshan P.R.**"
        },
        {
            "cell_type": "markdown",
            "metadata": {},
            "source": "***There is more after a beer***"
        },
        {
            "cell_type": "markdown",
            "metadata": {},
            "source": "### PROBLEM DESCRIPTION AND BACKGROUND DISCUSSION\n\n***The Interesting Background***\n\nIn the last decade, major cities in the U.S. have witnessed beer drinkers becoming beer lovers. This led to emergence of various craft brewery establishments that caters to the beer connoiseurs in their respective cities. Undoubtedly craft beers are being guzzled in gallons after gallons. This presents an interesting case for anyone looking beyond after finishing their beers.\n\nThe brewing process involves wheat or barley, hops and yeast along with a myriad of flavours. Once the beer portion of the process is extracted, there is the waste portion that remains collected. As it goes with waste from any organic process, this waste is actually wealth. This waste is nutritious since it still contains the solid portion of the ingredients that went into the beer making process.\n\nThe spent grains from beer is technically called as dreg(or trub - beer is a global drink - each region will have its term). This dreg isnt as bad as it sounds. In ancient to pre-modern times, this dreg was being fed to animals. And that is how dreg has been used up instead of rotting in a landfill. Interesting there are other uses of this dreg that can be more valueable than just being animal feed. \n\nHere are a few examples of using spent grain from beer making:\n\n    1) Animal feed on farms\n    2) Dreg to baking goods\n    3) Wastewater treatment\n    4) Dreg to compost\n    5) Fish food\n    6) Energy generation (experimental and too technical, hence I am not interested too much in this application)\n\n\n\n***The Challenging Problem Description***\n\nThe big brand commercial beers already have their waste matter handled. Since the factories are located in the rural side, its easy for them to just sell it to the animal farms. The problem faced is by the craft breweries who have to link up with various other businesses to sell-off their dreg. \n\nHere is an opportunity to bring in the dreg, assemble it in a place and sell it as raw materials to some of the businesses mentioned above. Part of the dreg can be sold to bakeries, to urban farms to make compost, off-shore fish farms and for wastewater treatment. \n\n***The missing piece of information that we need is how many craft breweries are there in a given city, say New York City.***"
        },
        {
            "cell_type": "markdown",
            "metadata": {},
            "source": "### DESCRIPTION OF THE DATA\n\nThe data we require is simple. \n    \n    - How many craft breweries are operational in New York City?\n    - Which ones are the most popular?\n    - Which ones have on-site brewing facilities\n\nWe can use the FourSquare API to gather all the breweries operating in New York City. Craft breweries are primarily located in Manhattan and Brooklyn, but we can expand it to all boroughs if required. Using this list of breweries along with their ratings, we can choose a smaller set of breweries to launch a pilot to evaluate the business. The FourSquare might not be able to answer the third question, for which we might need a beer or two from the place of interest. The data on a map should help us locate a few places of interest where we can have our dreg warehouse."
        }
    ],
    "metadata": {
        "kernelspec": {
            "display_name": "Python 3.7",
            "language": "python",
            "name": "python3"
        },
        "language_info": {
            "codemirror_mode": {
                "name": "ipython",
                "version": 3
            },
            "file_extension": ".py",
            "mimetype": "text/x-python",
            "name": "python",
            "nbconvert_exporter": "python",
            "pygments_lexer": "ipython3",
            "version": "3.7.10"
        }
    },
    "nbformat": 4,
    "nbformat_minor": 1
}